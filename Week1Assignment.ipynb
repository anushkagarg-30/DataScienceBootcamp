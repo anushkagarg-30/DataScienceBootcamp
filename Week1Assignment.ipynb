{
  "nbformat": 4,
  "nbformat_minor": 0,
  "metadata": {
    "colab": {
      "provenance": []
    },
    "kernelspec": {
      "name": "python3",
      "display_name": "Python 3"
    },
    "language_info": {
      "name": "python"
    }
  },
  "cells": [
    {
      "cell_type": "markdown",
      "source": [
        "Q1. Display Fibonacci Series upto 10 terms"
      ],
      "metadata": {
        "id": "UsMdg7nwFMcd"
      }
    },
    {
      "cell_type": "code",
      "execution_count": 1,
      "metadata": {
        "colab": {
          "base_uri": "https://localhost:8080/"
        },
        "id": "WU67hKP_FJPE",
        "outputId": "6529ec22-e10f-430a-f6ba-918567a55fa3"
      },
      "outputs": [
        {
          "output_type": "execute_result",
          "data": {
            "text/plain": [
              "[0, 1, 1, 2, 3, 5, 8, 13, 21, 34]"
            ]
          },
          "metadata": {},
          "execution_count": 1
        }
      ],
      "source": [
        "def fibonacci(n):\n",
        "    fib_series = [0, 1]\n",
        "    for i in range(2, n):\n",
        "        fib_series.append(fib_series[-1] + fib_series[-2])\n",
        "    return fib_series\n",
        "\n",
        "# Get Fibonacci series up to 10 terms\n",
        "fibonacci_series = fibonacci(10)\n",
        "fibonacci_series"
      ]
    },
    {
      "cell_type": "markdown",
      "source": [
        "Q2. Display numbers at the odd indices of a list"
      ],
      "metadata": {
        "id": "B_raA07LGHJE"
      }
    },
    {
      "cell_type": "code",
      "source": [
        "example_list = [10, 20, 30, 40, 50, 60, 70, 80, 90, 100]\n",
        "odd_indexed_values = []\n",
        "\n",
        "for i in range(len(example_list)):\n",
        "    if i % 2 == 1:  # Check if the index is odd\n",
        "        odd_indexed_values.append(example_list[i])\n",
        "\n",
        "print(odd_indexed_values)"
      ],
      "metadata": {
        "colab": {
          "base_uri": "https://localhost:8080/"
        },
        "id": "7_xZxhCOGNuE",
        "outputId": "967b6a6d-10b5-454f-883a-5584b6164d79"
      },
      "execution_count": 2,
      "outputs": [
        {
          "output_type": "stream",
          "name": "stdout",
          "text": [
            "[20, 40, 60, 80, 100]\n"
          ]
        }
      ]
    },
    {
      "cell_type": "markdown",
      "source": [
        "Q3. ⁠⁠string = \"\"\"\n",
        "\n",
        "I have provided this text to provide tips on creating interesting paragraphs.\n",
        "\n",
        "First, start with a clear topic sentence that introduces the main idea.\n",
        "\n",
        "Then, support the topic sentence with specific details, examples, and evidence.\n",
        "\n",
        "Vary the sentence length and structure to keep the reader engaged.\n",
        "\n",
        "Finally, end with a strong concluding sentence that summarizes the main points.\n",
        "\n",
        "Remember, practice makes perfect!\n",
        "\n",
        "\"\"\"\n",
        "\n",
        "**Your task is to count the number of different words in this text**"
      ],
      "metadata": {
        "id": "4OMHLQZtGj_M"
      }
    },
    {
      "cell_type": "code",
      "source": [
        "import re\n",
        "from collections import Counter\n",
        "\n",
        "text = \"\"\"\n",
        "I have provided this text to provide tips on creating interesting paragraphs.\n",
        "\n",
        "First, start with a clear topic sentence that introduces the main idea.\n",
        "\n",
        "Then, support the topic sentence with specific details, examples, and evidence.\n",
        "\n",
        "Vary the sentence length and structure to keep the reader engaged.\n",
        "\n",
        "Finally, end with a strong concluding sentence that summarizes the main points.\n",
        "\n",
        "Remember, practice makes perfect!\n",
        "\"\"\"\n",
        "\n",
        "# Normalize text so that only words are counted\n",
        "words = re.findall(r'\\b\\w+\\b', text.lower())\n",
        "\n",
        "# Create a dictionary to store word counts\n",
        "word_count_dict = Counter(words)\n",
        "\n",
        "print(word_count_dict)\n"
      ],
      "metadata": {
        "colab": {
          "base_uri": "https://localhost:8080/"
        },
        "id": "AQlFoS3BGsVS",
        "outputId": "c8c425d1-0a29-4f28-ead9-04f7670a7f89"
      },
      "execution_count": 3,
      "outputs": [
        {
          "output_type": "stream",
          "name": "stdout",
          "text": [
            "Counter({'the': 5, 'sentence': 4, 'with': 3, 'to': 2, 'a': 2, 'topic': 2, 'that': 2, 'main': 2, 'and': 2, 'i': 1, 'have': 1, 'provided': 1, 'this': 1, 'text': 1, 'provide': 1, 'tips': 1, 'on': 1, 'creating': 1, 'interesting': 1, 'paragraphs': 1, 'first': 1, 'start': 1, 'clear': 1, 'introduces': 1, 'idea': 1, 'then': 1, 'support': 1, 'specific': 1, 'details': 1, 'examples': 1, 'evidence': 1, 'vary': 1, 'length': 1, 'structure': 1, 'keep': 1, 'reader': 1, 'engaged': 1, 'finally': 1, 'end': 1, 'strong': 1, 'concluding': 1, 'summarizes': 1, 'points': 1, 'remember': 1, 'practice': 1, 'makes': 1, 'perfect': 1})\n"
          ]
        }
      ]
    },
    {
      "cell_type": "markdown",
      "source": [
        "Q4. Write a function count_vowels(word) that takes a word as an argument and returns the number of vowels in the word"
      ],
      "metadata": {
        "id": "IwG65T5PHozw"
      }
    },
    {
      "cell_type": "code",
      "source": [
        "def count_vowels(word):\n",
        "    vowels = \"aeiouAEIOU\"\n",
        "    count = sum(1 for char in word if char in vowels)\n",
        "    return count\n",
        "\n",
        "while True:\n",
        "    word = input(\"Enter a word (or type 'exit' to stop): \")\n",
        "    if word.lower() == 'exit':\n",
        "        print(\"Exiting the program. Goodbye!\")\n",
        "        break\n",
        "    else:\n",
        "        print(f\"Number of vowels in '{word}': {count_vowels(word)}\")"
      ],
      "metadata": {
        "colab": {
          "base_uri": "https://localhost:8080/"
        },
        "id": "L6hM3MbCHuQD",
        "outputId": "bbd030c9-67c2-4a39-8bb5-59e1c59ecdf9"
      },
      "execution_count": 4,
      "outputs": [
        {
          "output_type": "stream",
          "name": "stdout",
          "text": [
            "Enter a word (or type 'exit' to stop): Elephant\n",
            "Number of vowels in 'Elephant': 3\n",
            "Enter a word (or type 'exit' to stop): Grass\n",
            "Number of vowels in 'Grass': 1\n",
            "Enter a word (or type 'exit' to stop): Tremendous\n",
            "Number of vowels in 'Tremendous': 4\n",
            "Enter a word (or type 'exit' to stop): GATE\n",
            "Number of vowels in 'GATE': 2\n",
            "Enter a word (or type 'exit' to stop): exit\n",
            "Exiting the program. Goodbye!\n"
          ]
        }
      ]
    },
    {
      "cell_type": "markdown",
      "source": [
        "Q5. Iterate through the following list of animals and print each one in all caps.\n",
        "\n",
        "animals=['tiger', 'elephant', 'monkey', 'zebra', 'panther']"
      ],
      "metadata": {
        "id": "wi7Tc40pI3PQ"
      }
    },
    {
      "cell_type": "code",
      "source": [
        "animals = ['tiger', 'elephant', 'monkey', 'zebra', 'panther']\n",
        "for animal in animals:\n",
        "    print(animal.upper())"
      ],
      "metadata": {
        "colab": {
          "base_uri": "https://localhost:8080/"
        },
        "id": "0YFR6PltI-rF",
        "outputId": "11b41f41-8c2a-4be5-d85a-19754cc24c6b"
      },
      "execution_count": 5,
      "outputs": [
        {
          "output_type": "stream",
          "name": "stdout",
          "text": [
            "TIGER\n",
            "ELEPHANT\n",
            "MONKEY\n",
            "ZEBRA\n",
            "PANTHER\n"
          ]
        }
      ]
    },
    {
      "cell_type": "markdown",
      "source": [
        "Q6. Write a program that iterates from 1 to 20, printing each number and whether it's odd or even."
      ],
      "metadata": {
        "id": "04B1gO4SJEj1"
      }
    },
    {
      "cell_type": "code",
      "source": [
        "for num in range(1, 21):\n",
        "    if num % 2 == 0:\n",
        "        print(f\"{num} : EVEN\")\n",
        "    else:\n",
        "        print(f\"{num} : ODD\")"
      ],
      "metadata": {
        "colab": {
          "base_uri": "https://localhost:8080/"
        },
        "id": "D0nBa18rJKSn",
        "outputId": "7fb2d02e-85f2-4166-deac-4c4eda70c276"
      },
      "execution_count": 7,
      "outputs": [
        {
          "output_type": "stream",
          "name": "stdout",
          "text": [
            "1 : ODD\n",
            "2 : EVEN\n",
            "3 : ODD\n",
            "4 : EVEN\n",
            "5 : ODD\n",
            "6 : EVEN\n",
            "7 : ODD\n",
            "8 : EVEN\n",
            "9 : ODD\n",
            "10 : EVEN\n",
            "11 : ODD\n",
            "12 : EVEN\n",
            "13 : ODD\n",
            "14 : EVEN\n",
            "15 : ODD\n",
            "16 : EVEN\n",
            "17 : ODD\n",
            "18 : EVEN\n",
            "19 : ODD\n",
            "20 : EVEN\n"
          ]
        }
      ]
    },
    {
      "cell_type": "markdown",
      "source": [
        "Q7. Write a function sum_of_integers(a, b) that takes two integers as input from the user and returns their sum."
      ],
      "metadata": {
        "id": "Il0rscG_JaqI"
      }
    },
    {
      "cell_type": "code",
      "source": [
        "def sum_of_integers(a, b):\n",
        "    return a + b\n",
        "\n",
        "a = int(input(\"Enter the first integer: \"))\n",
        "b = int(input(\"Enter the second integer: \"))\n",
        "\n",
        "print(f\"The sum of {a} and {b} is: {sum_of_integers(a, b)}\")"
      ],
      "metadata": {
        "colab": {
          "base_uri": "https://localhost:8080/"
        },
        "id": "HoAxEpBgJb89",
        "outputId": "9187d68b-d72c-44e4-97aa-2f03e9bee2ec"
      },
      "execution_count": 8,
      "outputs": [
        {
          "output_type": "stream",
          "name": "stdout",
          "text": [
            "Enter the first integer: 23\n",
            "Enter the second integer: 45\n",
            "The sum of 23 and 45 is: 68\n"
          ]
        }
      ]
    }
  ]
}